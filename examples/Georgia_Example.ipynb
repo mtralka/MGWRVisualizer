{
 "cells": [
  {
   "cell_type": "code",
   "execution_count": 1,
   "metadata": {},
   "outputs": [
    {
     "name": "stderr",
     "output_type": "stream",
     "text": [
      "Backfitting:   4%|▍         | 9/200 [00:10<03:34,  1.12s/it]\n"
     ]
    },
    {
     "name": "stdout",
     "output_type": "stream",
     "text": [
      "[ 92. 101. 136. 158.]\n"
     ]
    },
    {
     "name": "stderr",
     "output_type": "stream",
     "text": [
      "Inference: 100%|██████████| 1/1 [00:00<00:00,  4.90it/s]\n"
     ]
    }
   ],
   "source": [
    "import numpy as np\n",
    "import libpysal as ps \n",
    "from mgwr.gwr import GWR, MGWR\n",
    "from mgwr.sel_bw import Sel_BW\n",
    "from mgwr.utils import shift_colormap, truncate_colormap\n",
    "import geopandas as gp\n",
    "import matplotlib.pyplot as plt\n",
    "import matplotlib as mpl\n",
    "import pandas as pd\n",
    "\n",
    "georgia_data = pd.read_csv(ps.examples.get_path('GData_utm.csv'))\n",
    "georgia_shp = gp.read_file(ps.examples.get_path('G_utm.shp'))\n",
    "g_y = georgia_data['PctBach'].values.reshape((-1,1))\n",
    "g_X = georgia_data[['PctFB', 'PctBlack', 'PctRural']].values\n",
    "u = georgia_data['X']\n",
    "v = georgia_data['Y']\n",
    "g_coords = list(zip(u,v))\n",
    "g_X = (g_X - g_X.mean(axis=0)) / g_X.std(axis=0)\n",
    "g_y = g_y.reshape((-1,1))\n",
    "g_y = (g_y - g_y.mean(axis=0)) / g_y.std(axis=0)\n",
    "mgwr_selector = Sel_BW(g_coords, g_y, g_X, multi=True)\n",
    "mgwr_bw = mgwr_selector.search(multi_bw_min=[2])\n",
    "print(mgwr_bw)\n",
    "mgwr_results = MGWR(g_coords, g_y, g_X, mgwr_selector).fit()"
   ]
  },
  {
   "cell_type": "code",
   "execution_count": null,
   "metadata": {},
   "outputs": [],
   "source": [
    "!pip install mgwrvisualizer -U"
   ]
  },
  {
   "cell_type": "code",
   "execution_count": 2,
   "metadata": {},
   "outputs": [],
   "source": [
    "from mgwrvisualizer import MGWRVisualizer"
   ]
  },
  {
   "cell_type": "code",
   "execution_count": 3,
   "metadata": {},
   "outputs": [],
   "source": [
    "viz = MGWRVisualizer(mgwr_results, georgia_data, georgia_shp, crs=\"EPSG:6345\", merge_key=\"AreaKey\")"
   ]
  },
  {
   "cell_type": "code",
   "execution_count": null,
   "metadata": {},
   "outputs": [],
   "source": [
    "viz.run()"
   ]
  }
 ],
 "metadata": {
  "interpreter": {
   "hash": "b51e9c69b11c6fb3c066ecfe040c4453e47f2bb55bcec1676f65adcaffaacda0"
  },
  "kernelspec": {
   "display_name": "Python 3.9.7 64-bit ('gds2': conda)",
   "language": "python",
   "name": "python3"
  },
  "language_info": {
   "codemirror_mode": {
    "name": "ipython",
    "version": 3
   },
   "file_extension": ".py",
   "mimetype": "text/x-python",
   "name": "python",
   "nbconvert_exporter": "python",
   "pygments_lexer": "ipython3",
   "version": "3.9.7"
  },
  "orig_nbformat": 4
 },
 "nbformat": 4,
 "nbformat_minor": 2
}
